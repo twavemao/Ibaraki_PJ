{
 "cells": [
  {
   "cell_type": "markdown",
   "id": "d4716a89",
   "metadata": {},
   "source": [
    "### 第1セル"
   ]
  },
  {
   "cell_type": "code",
   "execution_count": 3,
   "id": "3fd943d2",
   "metadata": {},
   "outputs": [],
   "source": [
    "chunk_size = 50"
   ]
  },
  {
   "cell_type": "markdown",
   "id": "d8699d28",
   "metadata": {},
   "source": [
    "### 第2セル"
   ]
  },
  {
   "cell_type": "code",
   "execution_count": 1,
   "id": "cedd2206",
   "metadata": {},
   "outputs": [],
   "source": [
    "data = \"./カブトムシ_raw.txt\"\n",
    "\n",
    "with open(data, 'r', encoding='utf-8') as f:\n",
    "        text = f.read()"
   ]
  },
  {
   "cell_type": "markdown",
   "id": "0cfa752f",
   "metadata": {},
   "source": [
    "### 第3セル"
   ]
  },
  {
   "cell_type": "code",
   "execution_count": 10,
   "id": "5499c594",
   "metadata": {},
   "outputs": [
    {
     "name": "stdout",
     "output_type": "stream",
     "text": [
      "=== チャンク上位10件（文字数） ===\n",
      "\n",
      "チャンク 1: カブトムシ（漢字表記は「兜虫」もしくは「甲虫」、学名：Trypoxylus dichotomus）は\n",
      "\n",
      "チャンク 2: 、コウチュウ目コガネムシ科カブトムシ亜科カブトムシ族カブトムシ属 Trypoxylus に分類される\n",
      "\n",
      "チャンク 3: 昆虫の種。より広義にはカブトムシ属を含むカブトムシ亜科 (Dynastinae) に分類される昆虫の\n",
      "\n",
      "チャンク 4: 総称だが、この項では種の標準和名としての狭義のカブトムシを扱う。日本を含む東アジアに分布する。大型\n",
      "\n",
      "チャンク 5: のカブトムシ類としては東アジアを代表する種であり、カブトムシ類の中でも最も北に分布する種の一つである\n",
      "\n",
      "チャンク 6: 。また日本を代表するコガネムシとする文献もある。日本では成虫は夏に発生し、クワガタムシとともに子供た\n",
      "\n",
      "チャンク 7: ちから人気を集めている昆虫である。成虫は夜行性で、クヌギ・コナラなどの樹液に集まり、幼虫は腐葉土や軟\n",
      "\n",
      "チャンク 8: らかい朽木などを食べて成長する。ゲノムサイズは約7億塩基対 (700 Mbp) 。== 名前の\n",
      "\n",
      "チャンク 9: 由来 ==「カブトムシ」の和名は、オスにある1対の角が兜の正面の飾り（前立て）に似ていることが由来\n",
      "\n",
      "チャンク 10: である。漢字で「独角仙」と表記されることもある。「カブトムシ」は京都方言が全国的に採択されたもので、\n",
      "\n"
     ]
    }
   ],
   "source": [
    "# 文字数によるチャンク分け\n",
    "\n",
    "chunks = []\n",
    "\n",
    "for i in range(0, len(text), chunk_size):\n",
    "    piece = text[i:i + chunk_size]        \n",
    "    if piece:\n",
    "        piece = piece.replace(\"\\n\", \"\")\n",
    "        chunks.append(piece)\n",
    "    \n",
    "    # 10件まで制限\n",
    "    if len(chunks) >= 10:\n",
    "        break\n",
    "\n",
    "# 上位10件を番号付きで出力\n",
    "print(\"=== チャンク上位10件（文字数） ===\\n\")\n",
    "for i, chunk in enumerate(chunks, 1):\n",
    "    print(f\"チャンク {i}: {chunk}\\n\")"
   ]
  },
  {
   "cell_type": "markdown",
   "id": "943913d0",
   "metadata": {},
   "source": [
    "### 第4セル"
   ]
  },
  {
   "cell_type": "code",
   "execution_count": 11,
   "id": "b25a8aac",
   "metadata": {},
   "outputs": [
    {
     "name": "stdout",
     "output_type": "stream",
     "text": [
      "=== チャンク上位10件（文単位） ===\n",
      "\n",
      "チャンク 1：カブトムシ（漢字表記は「兜虫」もしくは「甲虫」、学名：Trypoxylus dichotomus）は、コウチュウ目コガネムシ科カブトムシ亜科カブトムシ族カブトムシ属 Trypoxylus に分類される昆虫の種。\n",
      "\n",
      "チャンク 2：より広義にはカブトムシ属を含むカブトムシ亜科 (Dynastinae) に分類される昆虫の総称だが、この項では種の標準和名としての狭義のカブトムシを扱う。\n",
      "\n",
      "チャンク 3：日本を含む東アジアに分布する。\n",
      "\n",
      "チャンク 4：大型のカブトムシ類としては東アジアを代表する種であり、カブトムシ類の中でも最も北に分布する種の一つである。\n",
      "\n",
      "チャンク 5：また日本を代表するコガネムシとする文献もある。\n",
      "\n",
      "チャンク 6：日本では成虫は夏に発生し、クワガタムシとともに子供たちから人気を集めている昆虫である。\n",
      "\n",
      "チャンク 7：成虫は夜行性で、クヌギ・コナラなどの樹液に集まり、幼虫は腐葉土や軟らかい朽木などを食べて成長する。\n",
      "\n",
      "チャンク 8：ゲノムサイズは約7億塩基対 (700 Mbp) 。\n",
      "\n",
      "チャンク 9：== 名前の由来 ==\n",
      "「カブトムシ」の和名は、オスにある1対の角が兜の正面の飾り（前立て）に似ていることが由来である。\n",
      "\n",
      "チャンク 10：漢字で「独角仙」と表記されることもある。\n",
      "\n"
     ]
    }
   ],
   "source": [
    "# 文単位によるチャンク分け\n",
    "\n",
    "import re\n",
    "# 句点/？/！で文区切り（句読点は文末に含める）\n",
    "pattern = r'[^。！？!?。]+[。！？!?。]?'\n",
    "sentences = [s.strip() for s in re.findall(pattern, text) if s and s.strip()]\n",
    "\n",
    "print(\"=== チャンク上位10件（文単位） ===\\n\")\n",
    "for i, sentence in enumerate(sentences):\n",
    "    if i >= 10:\n",
    "        break\n",
    "    print(f\"チャンク {i+1}：{sentence}\\n\")"
   ]
  }
 ],
 "metadata": {
  "kernelspec": {
   "display_name": "education",
   "language": "python",
   "name": "python3"
  },
  "language_info": {
   "codemirror_mode": {
    "name": "ipython",
    "version": 3
   },
   "file_extension": ".py",
   "mimetype": "text/x-python",
   "name": "python",
   "nbconvert_exporter": "python",
   "pygments_lexer": "ipython3",
   "version": "3.12.9"
  }
 },
 "nbformat": 4,
 "nbformat_minor": 5
}
