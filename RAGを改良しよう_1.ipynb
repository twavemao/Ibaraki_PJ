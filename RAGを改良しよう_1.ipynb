{
 "cells": [
  {
   "cell_type": "code",
   "execution_count": null,
   "id": "3bf1dc8c",
   "metadata": {},
   "outputs": [],
   "source": [
    "# チャンク分けの設定\n",
    "chunk_size = 100     #チャンクサイズ\n",
    "overlap = 20         #オーバーラップ"
   ]
  },
  {
   "cell_type": "code",
   "execution_count": null,
   "id": "8940592e",
   "metadata": {},
   "outputs": [
    {
     "data": {
      "text/plain": [
       "'カブトムシ（漢字表記'"
      ]
     },
     "execution_count": 2,
     "metadata": {},
     "output_type": "execute_result"
    }
   ],
   "source": [
    "# テキストファイル読み込み\n",
    "\n",
    "data = \"カブトムシ_raw.txt\"\n",
    "\n",
    "with open(data, 'r', encoding='utf-8') as f:\n",
    "        text = f.read()"
   ]
  },
  {
   "cell_type": "code",
   "execution_count": 7,
   "id": "21fe5387",
   "metadata": {},
   "outputs": [
    {
     "name": "stdout",
     "output_type": "stream",
     "text": [
      "チャンク 1: カブトムシ（漢字表記は「兜虫」もしくは「甲虫」、学名：Trypoxylus dichotomus）は、コウチュウ目コガネムシ科カブトムシ亜科カブトムシ族カブトムシ属 Trypoxylus に分類される\n",
      "チャンク 2: シ属 Trypoxylus に分類される昆虫の種。より広義にはカブトムシ属を含むカブトムシ亜科 (Dynastinae) に分類される昆虫の総称だが、この項では種の標準和名としての狭義のカブトムシを扱\n",
      "チャンク 3: 種の標準和名としての狭義のカブトムシを扱う。日本を含む東アジアに分布する。大型のカブトムシ類としては東アジアを代表する種であり、カブトムシ類の中でも最も北に分布する種の一つである。また日本を代表する\n",
      "チャンク 4: 布する種の一つである。また日本を代表するコガネムシとする文献もある。日本では成虫は夏に発生し、クワガタムシとともに子供たちから人気を集めている昆虫である。成虫は夜行性で、クヌギ・コナラなどの樹液に集ま\n",
      "チャンク 5: 夜行性で、クヌギ・コナラなどの樹液に集まり、幼虫は腐葉土や軟らかい朽木などを食べて成長する。ゲノムサイズは約7億塩基対 (700 Mbp) 。== 名前の由来 ==「カブトムシ」の和名は、オス\n",
      "チャンク 6: 由来 ==「カブトムシ」の和名は、オスにある1対の角が兜の正面の飾り（前立て）に似ていることが由来である。漢字で「独角仙」と表記されることもある。「カブトムシ」は京都方言が全国的に採択されたもので、\n",
      "チャンク 7: 」は京都方言が全国的に採択されたもので、江戸時代には平家ムシ（豫州）、枇杷ムシおよびヤドヲカ（勢州）、オニムシ（仙台）、ツノムシ（和州）、サイカチムシ（江戸）などの地域名があった。『物類称呼』によれば\n",
      "チャンク 8: どの地域名があった。『物類称呼』によれば「サイカチムシ」の名前は、「皀莢〔サイカチ〕の樹に住むし也」という。学名（種名）の属名 Trypoxylus は「木に穴を穿つもの」の意味で、酷似した属名には\n",
      "チャンク 9: 穴を穿つもの」の意味で、酷似した属名にはハチのジガバチモドキ属 Trypoxylon がある。種小名 dichotomus は角の形に由来し、「二つに分かれた角」の意味である。旧属名の Allomy\n",
      "チャンク 10: 角」の意味である。旧属名の Allomyrina は、ギリシャ語で「他の」を意味する allo- と Myrina 、すなわち「もう一つの Myrina 属」という意味である。これはカブトムシが当初 \n",
      "\n"
     ]
    }
   ],
   "source": [
    "#文字数ベースのチャンク分け（オーバーラップあり）\n",
    "\n",
    "char_chunks = []\n",
    "start = 0\n",
    "\n",
    "while start < len(text):\n",
    "    # チャンクの終了位置を計算\n",
    "    end = start + chunk_size\n",
    "    \n",
    "    # テキストの最後の場合は、残りすべてを使用\n",
    "    if end >= len(text):\n",
    "        chunk_text = text[start:]\n",
    "    else:\n",
    "        chunk_text = text[start:end]\n",
    "    \n",
    "    chunks  = chunk_text.replace(\"\\n\", \"\")\n",
    "    \n",
    "    char_chunks.append(chunks)\n",
    "    \n",
    "    # 次のチャンクの開始位置を計算（オーバーラップを考慮）\n",
    "    start = end - overlap\n",
    "    \n",
    "    # オーバーラップがチャンクサイズ以上の場合の処理\n",
    "    if start >= len(text):\n",
    "        break\n",
    "\n",
    "for i, chunk in enumerate(char_chunks):\n",
    "    if i >= 10:  # 10チャンク目までしか表示しない\n",
    "        break\n",
    "    print(f\"チャンク {i+1}: {chunk}\")\n",
    "print()"
   ]
  },
  {
   "cell_type": "code",
   "execution_count": null,
   "id": "67bd393a",
   "metadata": {},
   "outputs": [
    {
     "name": "stdout",
     "output_type": "stream",
     "text": [
      "チャンク 1: カブトムシ（漢字表記は「兜虫」もしくは「甲虫」、学名：Trypoxylus dichotomus）は、コウチュウ目コガネムシ科カブトムシ亜科カブトムシ族カブトムシ属 Trypoxylus に分類される昆虫の種。\n",
      "チャンク 2: カブトムシ（漢字表記は「兜虫」もしくは「甲虫」、学名：Trypoxylus dichotomus）は、コウチュウ目コガネムシ科カブトムシ亜科カブトムシ族カブトムシ属 Trypoxylus に分類される昆虫の種。より広義にはカブトムシ属を含むカブトムシ亜科 (Dynastinae) に分類される昆虫の総称だが、この項では種の標準和名としての狭義のカブトムシを扱う。\n",
      "チャンク 3: より広義にはカブトムシ属を含むカブトムシ亜科 (Dynastinae) に分類される昆虫の総称だが、この項では種の標準和名としての狭義のカブトムシを扱う。日本を含む東アジアに分布する。\n",
      "チャンク 4: 日本を含む東アジアに分布する。大型のカブトムシ類としては東アジアを代表する種であり、カブトムシ類の中でも最も北に分布する種の一つである。\n",
      "チャンク 5: 大型のカブトムシ類としては東アジアを代表する種であり、カブトムシ類の中でも最も北に分布する種の一つである。また日本を代表するコガネムシとする文献もある。\n",
      "チャンク 6: また日本を代表するコガネムシとする文献もある。日本では成虫は夏に発生し、クワガタムシとともに子供たちから人気を集めている昆虫である。\n",
      "チャンク 7: 日本では成虫は夏に発生し、クワガタムシとともに子供たちから人気を集めている昆虫である。成虫は夜行性で、クヌギ・コナラなどの樹液に集まり、幼虫は腐葉土や軟らかい朽木などを食べて成長する。\n",
      "チャンク 8: 成虫は夜行性で、クヌギ・コナラなどの樹液に集まり、幼虫は腐葉土や軟らかい朽木などを食べて成長する。ゲノムサイズは約7億塩基対 (700 Mbp) 。\n",
      "チャンク 9: ゲノムサイズは約7億塩基対 (700 Mbp) 。== 名前の由来 ==「カブトムシ」の和名は、オスにある1対の角が兜の正面の飾り（前立て）に似ていることが由来である。\n",
      "チャンク 10: == 名前の由来 ==\n",
      "「カブトムシ」の和名は、オスにある1対の角が兜の正面の飾り（前立て）に似ていることが由来である。漢字で「独角仙」と表記されることもある。\n",
      "\n"
     ]
    }
   ],
   "source": [
    "# 文単位のチャンク分け（オーバーラップあり）\n",
    "\n",
    "pattern = r'[^。！？!?。]+[。！？!?。]?'\n",
    "sentences = [s.strip() for s in re.findall(pattern, text) if s and s.strip()]\n",
    "    \n",
    "chunks = []\n",
    "for i, s in enumerate(sentences):\n",
    "    s  = s.replace(\"\\n\", \"\")\n",
    "    if i == 0:\n",
    "        chunks.append(s)\n",
    "    else:\n",
    "        chunks.append(sentences[i-1] + s)\n",
    "        \n",
    "\n",
    "for i, chunk in enumerate(chunks):\n",
    "    if i >= 10:  # 10チャンク目までしか表示しない\n",
    "        break\n",
    "    print(f\"チャンク {i+1}: {chunk}\")\n",
    "print()"
   ]
  }
 ],
 "metadata": {
  "kernelspec": {
   "display_name": "education",
   "language": "python",
   "name": "python3"
  },
  "language_info": {
   "codemirror_mode": {
    "name": "ipython",
    "version": 3
   },
   "file_extension": ".py",
   "mimetype": "text/x-python",
   "name": "python",
   "nbconvert_exporter": "python",
   "pygments_lexer": "ipython3",
   "version": "3.12.9"
  }
 },
 "nbformat": 4,
 "nbformat_minor": 5
}
